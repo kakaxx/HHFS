{
 "cells": [
  {
   "cell_type": "code",
   "execution_count": 1,
   "metadata": {},
   "outputs": [],
   "source": [
    "import numpy as np\n",
    "import math\n",
    "import random\n",
    "import matplotlib.pyplot as plt\n",
    "import pandas as pd\n",
    "import copy\n",
    "from sklearn.naive_bayes import GaussianNB\n",
    "from sklearn.model_selection import KFold\n",
    "from sklearn.metrics import roc_auc_score\n",
    "from scipy import stats\n",
    "from sklearn.metrics import confusion_matrix\n",
    "from sklearn.metrics import jaccard_score\n",
    "from sklearn.metrics import f1_score\n",
    "from sklearn.feature_selection import mutual_info_classif"
   ]
  },
  {
   "cell_type": "code",
   "execution_count": 2,
   "metadata": {
    "code_folding": [],
    "scrolled": true
   },
   "outputs": [
    {
     "data": {
      "text/plain": [
       "(130, 503)"
      ]
     },
     "execution_count": 2,
     "metadata": {},
     "output_type": "execute_result"
    }
   ],
   "source": [
    "#加载数据 预处理\n",
    "data = pd.read_csv(\"../data/gene_version2020/generate/ExperimentalDatasets/MM/MM-BPCCMF.csv\",index_col=0)\n",
    "label = data[\"longevity influence\"]\n",
    "#删除无用列\n",
    "data = data.drop([\"longevity influence\"],axis=1)\n",
    "\n",
    "#初始化基因本体的DAG\n",
    "DAG = pd.read_csv(\"../data/gene_version2020/generate/GOPath/MM/MM-BPCCMF.csv\",index_col=0)\n",
    "\n",
    "#过滤低纬度特征\n",
    "for c in data.columns:\n",
    "    data[c] = data[c].astype('int')\n",
    "    if(data[c].sum() < 3):\n",
    "        data.drop(c,axis=1,inplace=True)\n",
    "DAG = DAG.loc[data.columns,data.columns]\n",
    "\n",
    "#计算相关性\n",
    "IGWeight = mutual_info_classif(data,label,discrete_features=True)\n",
    "IGWeight = pd.Series(IGWeight,index=DAG.columns)\n",
    "data.shape"
   ]
  },
  {
   "cell_type": "code",
   "execution_count": 3,
   "metadata": {
    "code_folding": [
     0,
     6,
     17,
     51
    ]
   },
   "outputs": [],
   "source": [
    "def GM_score(x,y): #计算GM 传入numpy\n",
    "    cm1 = confusion_matrix(x,y)\n",
    "    sensitivity1 = cm1[0,0]/(cm1[0,0]+cm1[0,1])\n",
    "    specificity1 = cm1[1,1]/(cm1[1,0]+cm1[1,1])\n",
    "    return sensitivity1,specificity1\n",
    "\n",
    "def getPathsToRoot(path,name):#传入list 方便递归\n",
    "    global pathList\n",
    "    flag = 0\n",
    "    path.append(name)\n",
    "    for anc in DAG.columns:\n",
    "        if(DAG.loc[anc,name] == 1):\n",
    "            getPathsToRoot(copy.copy(path),anc)\n",
    "            flag = 1\n",
    "    if(flag == 0):\n",
    "        pathList.append(path)\n",
    "        \n",
    "def SHSEL(trainData):\n",
    "    global pathList\n",
    "    #找到所有叶子结点\n",
    "    leafNodes = []\n",
    "    dropList = []\n",
    "    returnList = []\n",
    "    for go in DAG.columns:\n",
    "        if(DAG.loc[go,:].sum() == 0):\n",
    "            leafNodes.append(go)\n",
    "    #step1\n",
    "    for leaf in leafNodes:\n",
    "        for node in DAG.columns:\n",
    "            if(DAG.loc[node,leaf] == 1):\n",
    "                if((1-abs(IGWeight[node]-IGWeight[leaf])) >= threshold):\n",
    "                    dropList.append(leaf)\n",
    "                leafNodes.append(node)\n",
    "    selectFeatures = list(set(DAG.columns)-set(dropList))\n",
    "    print(len(selectFeatures))\n",
    "    #step2\n",
    "    leafNodes = []\n",
    "    for go in DAG.columns:\n",
    "        if(DAG.loc[go,:].sum() == 0):\n",
    "            leafNodes.append(go)\n",
    "    for leaf in leafNodes:\n",
    "        pathList = []\n",
    "        getPathsToRoot([],leaf)\n",
    "        for path in pathList:\n",
    "            path = list(filter(lambda x:x in selectFeatures,path))\n",
    "            pathIG = IGWeight[path]\n",
    "            highIG = pathIG[pathIG >= pathIG.mean()]\n",
    "            for index in highIG.index:\n",
    "                returnList.append(index)\n",
    "    return list(set(returnList))\n",
    "\n",
    "def myknn(train,label,x_test):\n",
    "    predictList = []\n",
    "    for j in range(x_test.shape[0]):\n",
    "        test = x_test.iloc[j,:]\n",
    "        maxJcd = 0\n",
    "        prediction = 0\n",
    "        for i in range(train.shape[0]):\n",
    "            temp = jaccard_score(train.iloc[i,:],test)\n",
    "            if(temp > maxJcd):\n",
    "                prediction = label[i]\n",
    "                maxJcd = temp\n",
    "        predictList.append(prediction)\n",
    "    return predictList"
   ]
  },
  {
   "cell_type": "code",
   "execution_count": 4,
   "metadata": {
    "code_folding": [],
    "scrolled": true
   },
   "outputs": [
    {
     "name": "stdout",
     "output_type": "stream",
     "text": [
      "458\n",
      "346\n",
      "[0 0 1 1 1 1 0 1 1 1 1 1 1]\n",
      "[0 1 1 1 1 1 1 1 1 1 1 0 1]\n",
      "458\n",
      "346\n",
      "[1 1 1 1 1 1 1 0 0 0 1 1 0]\n",
      "[0 1 1 1 1 1 1 0 0 0 0 1 1]\n",
      "458\n",
      "346\n",
      "[1 0 0 0 1 1 1 1 0 1 1 1 1]\n",
      "[0 0 0 0 1 1 1 1 1 1 1 0 1]\n",
      "458\n",
      "346\n",
      "[1 0 1 1 1 1 1 1 0 1 0 1 0]\n",
      "[1 0 1 1 1 1 0 1 0 1 1 1 0]\n",
      "458\n",
      "346\n",
      "[0 1 1 1 1 0 1 1 1 1 1 1 1]\n",
      "[0 1 1 1 1 1 1 1 1 1 1 0 1]\n",
      "458\n",
      "346\n",
      "[1 1 1 1 1 1 0 1 1 1 1 1 0]\n",
      "[1 1 1 0 0 1 1 0 1 0 1 1 0]\n",
      "458\n",
      "346\n",
      "[1 1 1 1 1 1 1 1 0 0 0 1 1]\n",
      "[1 1 1 1 0 1 1 1 0 0 0 1 0]\n",
      "458\n",
      "346\n",
      "[0 1 1 1 1 1 1 1 1 0 0 1 1]\n",
      "[0 0 1 1 1 1 1 1 0 0 0 1 1]\n",
      "458\n",
      "346\n",
      "[1 1 0 1 1 0 1 0 1 0 1 0 0]\n",
      "[1 1 0 1 0 1 1 1 0 0 0 1 0]\n",
      "458\n",
      "346\n",
      "[1 0 1 1 1 0 1 0 0 1 1 1 0]\n",
      "[1 0 1 1 0 1 1 0 0 0 1 1 0]\n"
     ]
    }
   ],
   "source": [
    "pathList = []\n",
    "sensitivity = []\n",
    "specificity = []\n",
    "F1 = []\n",
    "AUC = []\n",
    "threshold = 0.999\n",
    "#10折交叉验证\n",
    "kf = KFold(n_splits=10,shuffle=False)\n",
    "for train_index ,test_index in kf.split(data):\n",
    "    trainData = data.iloc[train_index,:]\n",
    "    testData = data.iloc[test_index,:]\n",
    "    Y_train = label.values[train_index] #用于训练模型\n",
    "    Y_test = label.values[test_index]#用于交叉验证\n",
    "    \n",
    "    selectFeatures = SHSEL(trainData) \n",
    "    print(len(selectFeatures))\n",
    "    X_train = trainData.loc[:,selectFeatures]\n",
    "    X_test = testData.loc[:,selectFeatures]\n",
    "    gnb = GaussianNB()\n",
    "    predictList = gnb.fit(X_train, Y_train).predict(X_test)\n",
    "    #predictList = myknn(X_train,Y_train,X_test)\n",
    "    \n",
    "    print(predictList)\n",
    "    print(Y_test)\n",
    "    sensi,speci= GM_score(predictList,Y_test)\n",
    "    sensitivity.append(sensi)\n",
    "    specificity.append(speci)\n",
    "    F1.append(f1_score(np.array(predictList),Y_test))\n",
    "    AUC.append(roc_auc_score(np.array(predictList),Y_test))"
   ]
  },
  {
   "cell_type": "code",
   "execution_count": 6,
   "metadata": {},
   "outputs": [
    {
     "name": "stdout",
     "output_type": "stream",
     "text": [
      "0.6883333333333332\n",
      "0.7811327561327561\n",
      "GM\n",
      "0.7332664684851706\n",
      "f1\n",
      "0.8188229933121575\n",
      "AUC\n",
      "0.7347330447330447\n"
     ]
    }
   ],
   "source": [
    "a = np.nanmean(sensitivity)\n",
    "b = np.nanmean(specificity)\n",
    "print(a)\n",
    "print(b)\n",
    "print(\"GM\")\n",
    "print(math.sqrt(a*b))\n",
    "print(\"f1\")\n",
    "print(np.nanmean(F1))\n",
    "print(\"AUC\")\n",
    "print(np.nanmean(AUC))"
   ]
  },
  {
   "cell_type": "code",
   "execution_count": null,
   "metadata": {},
   "outputs": [],
   "source": []
  }
 ],
 "metadata": {
  "kernelspec": {
   "display_name": "Python 3",
   "language": "python",
   "name": "python3"
  },
  "language_info": {
   "codemirror_mode": {
    "name": "ipython",
    "version": 3
   },
   "file_extension": ".py",
   "mimetype": "text/x-python",
   "name": "python",
   "nbconvert_exporter": "python",
   "pygments_lexer": "ipython3",
   "version": "3.8.5"
  }
 },
 "nbformat": 4,
 "nbformat_minor": 4
}
